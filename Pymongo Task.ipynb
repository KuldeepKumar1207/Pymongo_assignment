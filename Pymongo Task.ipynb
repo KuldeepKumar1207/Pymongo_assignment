{
 "cells": [
  {
   "cell_type": "code",
   "execution_count": 151,
   "id": "10be9a6f-29ed-4958-bd86-e246f5e8b865",
   "metadata": {},
   "outputs": [],
   "source": [
    "import pymongo\n",
    "from pymongo import MongoClient,errors\n",
    "from bson.objectid import ObjectId\n",
    "from pymongo import MongoClient, ASCENDING\n",
    "from pymongo.errors import DuplicateKeyError\n",
    "import re"
   ]
  },
  {
   "cell_type": "markdown",
   "id": "546a3d5d-efb9-4b24-9928-e204fb55a0f1",
   "metadata": {},
   "source": [
    "# Task – 1: Create a Python script to establish connection with MongoDB and set up a sample database.\n",
    "\n",
    "\n",
    "## Requirements\n",
    "- Connect to MongoDB (assume default localhost)\n",
    "- Create a database called \"training_db\"\n",
    "- Create a collection called \"employees\"\n",
    "- Insert 5 sample employee records with fields: name, email, department, salary, join_date"
   ]
  },
  {
   "cell_type": "code",
   "execution_count": 152,
   "id": "e80b471b-95b4-438e-8d9f-835ba61eee0a",
   "metadata": {},
   "outputs": [],
   "source": [
    "client = MongoClient(\"mongodb://localhost:27017/\") # Connect to mongo db"
   ]
  },
  {
   "cell_type": "code",
   "execution_count": 153,
   "id": "40665854-f727-4eee-9a34-35847d081b1f",
   "metadata": {},
   "outputs": [],
   "source": [
    "db=client['training_db'] #Create a database called \"training_db\"\n",
    "collection = db['employees'] #Create a collection called \"employees\""
   ]
  },
  {
   "cell_type": "code",
   "execution_count": 154,
   "id": "dbc128cb-28bb-47d4-a2fd-f6cdac75d4cf",
   "metadata": {},
   "outputs": [
    {
     "data": {
      "text/plain": [
       "InsertManyResult([ObjectId('68c3e6744c4841c1507d9075'), ObjectId('68c3e6744c4841c1507d9076'), ObjectId('68c3e6744c4841c1507d9077'), ObjectId('68c3e6744c4841c1507d9078'), ObjectId('68c3e6744c4841c1507d9079')], acknowledged=True)"
      ]
     },
     "execution_count": 154,
     "metadata": {},
     "output_type": "execute_result"
    }
   ],
   "source": [
    "# Insert 5 sample employee records with fields: name, email, department, salary, join_date\n",
    "collection.delete_many({})\n",
    "collection.insert_many([{'Name':'Kuldeep11',\"Email\":\"Kul11@gmail.com\",\"Department\":\"AI/ML\",\"Salary\":600000, \"join_Date\":\"09/09/2025\"},\n",
    "                       {'Name':'Advait',\"Email\":\"Kul22@gmail.com\",\"Department\":\"AI\",\"Salary\":700000, \"join_Date\":\"09/09/2025\"},\n",
    "                       {'Name':'Gautami',\"Email\":\"Kul33@gmail.com\",\"Department\":\"ML\",\"Salary\":800000, \"join_Date\":\"09/09/2025\"},\n",
    "                       {'Name':'Deepti',\"Email\":\"Kul44@gmail.com\",\"Department\":\"AI/ML\",\"Salary\":600000, \"join_Date\":\"09/09/2025\"},\n",
    "                       {'Name':'Abhijeet',\"Email\":\"Kul55@gmail.com\",\"Department\":\"AI\",\"Salary\":400000, \"join_Date\":\"09/09/2025\"}])"
   ]
  },
  {
   "cell_type": "markdown",
   "id": "a34d1a19-c80f-4379-8c14-1e681731faf8",
   "metadata": {},
   "source": [
    "# Task – 2: Implement various search and listing functionalities.\n",
    "\n",
    "## Requirements\n",
    "- List All Records: Function to display all employees\n",
    "- Search by Department: Find employees in specific department\n",
    "- Search by Salary Range: Find employees within salary range\n",
    "- Search by Name Pattern: Find employees whose names contain specific substring\n",
    "- Advanced Search: Combine multiple search criteria\n",
    "- Sort Results: Sort employees by salary (ascending/descending)\n",
    "- Limit Results: Implement pagination (limit and skip)"
   ]
  },
  {
   "cell_type": "code",
   "execution_count": 155,
   "id": "28656f8c-3b45-4af0-b119-30489e4f441a",
   "metadata": {},
   "outputs": [
    {
     "name": "stdout",
     "output_type": "stream",
     "text": [
      "{'_id': ObjectId('68c3e6744c4841c1507d9075'), 'Name': 'Kuldeep11', 'Email': 'Kul11@gmail.com', 'Department': 'AI/ML', 'Salary': 600000, 'join_Date': '09/09/2025'}\n",
      "{'_id': ObjectId('68c3e6744c4841c1507d9076'), 'Name': 'Advait', 'Email': 'Kul22@gmail.com', 'Department': 'AI', 'Salary': 700000, 'join_Date': '09/09/2025'}\n",
      "{'_id': ObjectId('68c3e6744c4841c1507d9077'), 'Name': 'Gautami', 'Email': 'Kul33@gmail.com', 'Department': 'ML', 'Salary': 800000, 'join_Date': '09/09/2025'}\n",
      "{'_id': ObjectId('68c3e6744c4841c1507d9078'), 'Name': 'Deepti', 'Email': 'Kul44@gmail.com', 'Department': 'AI/ML', 'Salary': 600000, 'join_Date': '09/09/2025'}\n",
      "{'_id': ObjectId('68c3e6744c4841c1507d9079'), 'Name': 'Abhijeet', 'Email': 'Kul55@gmail.com', 'Department': 'AI', 'Salary': 400000, 'join_Date': '09/09/2025'}\n"
     ]
    }
   ],
   "source": [
    "# List All Records: Function to display all employees\n",
    "def fun():\n",
    "    for i in collection.find():\n",
    "        print(i)\n",
    "\n",
    "fun()"
   ]
  },
  {
   "cell_type": "code",
   "execution_count": 156,
   "id": "299b0b83-c139-438d-ba27-5ca5904e7ae2",
   "metadata": {},
   "outputs": [
    {
     "name": "stdout",
     "output_type": "stream",
     "text": [
      "{'_id': ObjectId('68c3e6744c4841c1507d9076'), 'Name': 'Advait', 'Email': 'Kul22@gmail.com', 'Department': 'AI', 'Salary': 700000, 'join_Date': '09/09/2025'}\n",
      "{'_id': ObjectId('68c3e6744c4841c1507d9079'), 'Name': 'Abhijeet', 'Email': 'Kul55@gmail.com', 'Department': 'AI', 'Salary': 400000, 'join_Date': '09/09/2025'}\n"
     ]
    }
   ],
   "source": [
    "# Search by Department: Find employees in specific department\n",
    "for i in collection.find({\"Department\":\"AI\"}):\n",
    "    print(i)"
   ]
  },
  {
   "cell_type": "code",
   "execution_count": 157,
   "id": "38d7772d-0496-407a-b6a7-bf3539507168",
   "metadata": {},
   "outputs": [
    {
     "name": "stdout",
     "output_type": "stream",
     "text": [
      "{'_id': ObjectId('68c3e6744c4841c1507d9075'), 'Name': 'Kuldeep11', 'Email': 'Kul11@gmail.com', 'Department': 'AI/ML', 'Salary': 600000, 'join_Date': '09/09/2025'}\n",
      "{'_id': ObjectId('68c3e6744c4841c1507d9076'), 'Name': 'Advait', 'Email': 'Kul22@gmail.com', 'Department': 'AI', 'Salary': 700000, 'join_Date': '09/09/2025'}\n",
      "{'_id': ObjectId('68c3e6744c4841c1507d9078'), 'Name': 'Deepti', 'Email': 'Kul44@gmail.com', 'Department': 'AI/ML', 'Salary': 600000, 'join_Date': '09/09/2025'}\n"
     ]
    }
   ],
   "source": [
    "# Search by Salary Range: Find employees within salary range\n",
    "for i in collection.find({\"Salary\":{\"$gt\":400000,\"$lt\":800000}}):\n",
    "    print(i)"
   ]
  },
  {
   "cell_type": "code",
   "execution_count": 158,
   "id": "cf7cb28c-dfa2-49ae-b647-42d6dcbe830c",
   "metadata": {},
   "outputs": [
    {
     "name": "stdout",
     "output_type": "stream",
     "text": [
      "{'_id': ObjectId('68c3e6744c4841c1507d9075'), 'Name': 'Kuldeep11', 'Email': 'Kul11@gmail.com', 'Department': 'AI/ML', 'Salary': 600000, 'join_Date': '09/09/2025'}\n",
      "{'_id': ObjectId('68c3e6744c4841c1507d9078'), 'Name': 'Deepti', 'Email': 'Kul44@gmail.com', 'Department': 'AI/ML', 'Salary': 600000, 'join_Date': '09/09/2025'}\n",
      "{'_id': ObjectId('68c3e6744c4841c1507d9079'), 'Name': 'Abhijeet', 'Email': 'Kul55@gmail.com', 'Department': 'AI', 'Salary': 400000, 'join_Date': '09/09/2025'}\n"
     ]
    }
   ],
   "source": [
    "# Search by Name Pattern: Find employees whose names contain specific substring\n",
    "for i in collection.find({\"Name\":{\"$regex\":\"e\"}}):\n",
    "    print(i)"
   ]
  },
  {
   "cell_type": "code",
   "execution_count": 159,
   "id": "0aa33edd-81b2-44ec-9221-fbde4066ec64",
   "metadata": {},
   "outputs": [
    {
     "name": "stdout",
     "output_type": "stream",
     "text": [
      "{'_id': ObjectId('68c3e6744c4841c1507d9075'), 'Name': 'Kuldeep11', 'Email': 'Kul11@gmail.com', 'Department': 'AI/ML', 'Salary': 600000, 'join_Date': '09/09/2025'}\n",
      "{'_id': ObjectId('68c3e6744c4841c1507d9078'), 'Name': 'Deepti', 'Email': 'Kul44@gmail.com', 'Department': 'AI/ML', 'Salary': 600000, 'join_Date': '09/09/2025'}\n"
     ]
    }
   ],
   "source": [
    "# Advanced Search: Combine multiple search criteria\n",
    "for i in collection.find({\"Name\":{\"$regex\":\"e\"},\"Salary\":{\"$eq\":600000}}):\n",
    "    print(i)"
   ]
  },
  {
   "cell_type": "code",
   "execution_count": 160,
   "id": "7aac31a6-bde5-48d2-9f82-51396b94c875",
   "metadata": {},
   "outputs": [
    {
     "name": "stdout",
     "output_type": "stream",
     "text": [
      "{'_id': ObjectId('68c3e6744c4841c1507d9079'), 'Name': 'Abhijeet', 'Email': 'Kul55@gmail.com', 'Department': 'AI', 'Salary': 400000, 'join_Date': '09/09/2025'}\n",
      "{'_id': ObjectId('68c3e6744c4841c1507d9075'), 'Name': 'Kuldeep11', 'Email': 'Kul11@gmail.com', 'Department': 'AI/ML', 'Salary': 600000, 'join_Date': '09/09/2025'}\n",
      "{'_id': ObjectId('68c3e6744c4841c1507d9078'), 'Name': 'Deepti', 'Email': 'Kul44@gmail.com', 'Department': 'AI/ML', 'Salary': 600000, 'join_Date': '09/09/2025'}\n",
      "{'_id': ObjectId('68c3e6744c4841c1507d9076'), 'Name': 'Advait', 'Email': 'Kul22@gmail.com', 'Department': 'AI', 'Salary': 700000, 'join_Date': '09/09/2025'}\n",
      "{'_id': ObjectId('68c3e6744c4841c1507d9077'), 'Name': 'Gautami', 'Email': 'Kul33@gmail.com', 'Department': 'ML', 'Salary': 800000, 'join_Date': '09/09/2025'}\n"
     ]
    }
   ],
   "source": [
    "# Sort Results: Sort employees by salary (ascending)\n",
    "for i in collection.find({}).sort({\"Salary\":1}):\n",
    "    print(i)"
   ]
  },
  {
   "cell_type": "code",
   "execution_count": 161,
   "id": "059c34f3-867e-43d4-8e2e-36bce032e5a7",
   "metadata": {},
   "outputs": [
    {
     "name": "stdout",
     "output_type": "stream",
     "text": [
      "{'_id': ObjectId('68c3e6744c4841c1507d9077'), 'Name': 'Gautami', 'Email': 'Kul33@gmail.com', 'Department': 'ML', 'Salary': 800000, 'join_Date': '09/09/2025'}\n",
      "{'_id': ObjectId('68c3e6744c4841c1507d9076'), 'Name': 'Advait', 'Email': 'Kul22@gmail.com', 'Department': 'AI', 'Salary': 700000, 'join_Date': '09/09/2025'}\n",
      "{'_id': ObjectId('68c3e6744c4841c1507d9075'), 'Name': 'Kuldeep11', 'Email': 'Kul11@gmail.com', 'Department': 'AI/ML', 'Salary': 600000, 'join_Date': '09/09/2025'}\n",
      "{'_id': ObjectId('68c3e6744c4841c1507d9078'), 'Name': 'Deepti', 'Email': 'Kul44@gmail.com', 'Department': 'AI/ML', 'Salary': 600000, 'join_Date': '09/09/2025'}\n",
      "{'_id': ObjectId('68c3e6744c4841c1507d9079'), 'Name': 'Abhijeet', 'Email': 'Kul55@gmail.com', 'Department': 'AI', 'Salary': 400000, 'join_Date': '09/09/2025'}\n"
     ]
    }
   ],
   "source": [
    "# Sort Results: Sort employees by salary (descending)\n",
    "for i in collection.find({}).sort({\"Salary\":-1}):\n",
    "    print(i)"
   ]
  },
  {
   "cell_type": "code",
   "execution_count": 162,
   "id": "1743ef28-6461-4046-ae0f-4f624a7fef39",
   "metadata": {},
   "outputs": [
    {
     "name": "stdout",
     "output_type": "stream",
     "text": [
      "{'_id': ObjectId('68c3e6744c4841c1507d9077'), 'Name': 'Gautami', 'Email': 'Kul33@gmail.com', 'Department': 'ML', 'Salary': 800000, 'join_Date': '09/09/2025'}\n"
     ]
    }
   ],
   "source": [
    "# Limit Results: Implement pagination (limit)\n",
    "for i in collection.find({}).sort({\"Salary\":-1}).limit(1):\n",
    "    print(i)"
   ]
  },
  {
   "cell_type": "code",
   "execution_count": 163,
   "id": "54ac6fc4-34cf-4870-a45c-89853ea5621c",
   "metadata": {},
   "outputs": [
    {
     "name": "stdout",
     "output_type": "stream",
     "text": [
      "{'_id': ObjectId('68c3e6744c4841c1507d9075'), 'Name': 'Kuldeep11', 'Email': 'Kul11@gmail.com', 'Department': 'AI/ML', 'Salary': 600000, 'join_Date': '09/09/2025'}\n",
      "{'_id': ObjectId('68c3e6744c4841c1507d9078'), 'Name': 'Deepti', 'Email': 'Kul44@gmail.com', 'Department': 'AI/ML', 'Salary': 600000, 'join_Date': '09/09/2025'}\n",
      "{'_id': ObjectId('68c3e6744c4841c1507d9079'), 'Name': 'Abhijeet', 'Email': 'Kul55@gmail.com', 'Department': 'AI', 'Salary': 400000, 'join_Date': '09/09/2025'}\n"
     ]
    }
   ],
   "source": [
    "# Limit Results: Implement pagination (skip)\n",
    "for i in collection.find({}).sort({\"Salary\":-1}).skip(2):\n",
    "    print(i)"
   ]
  },
  {
   "cell_type": "markdown",
   "id": "2999fd36-d07d-4e08-bf99-8bd970b77166",
   "metadata": {},
   "source": [
    "# Task 3:Implement functions to add new records with validation.\n",
    "\n",
    "## Requirements\n",
    "- Single Insert: Add one employee record\n",
    "- Bulk Insert: Add multiple employee records\n",
    "- Input Validation: Validate data before insertion\n",
    "- Duplicate Prevention: Prevent duplicate email addresses"
   ]
  },
  {
   "cell_type": "code",
   "execution_count": 164,
   "id": "82489950-2f7f-41d6-a38e-c6f2ddbf8f62",
   "metadata": {},
   "outputs": [],
   "source": [
    "collection.create_index([(\"Email\", ASCENDING)], unique=True)\n",
    "EMAIL_RE = re.compile(r\"^[A-Z0-9._%+-]+@[A-Z0-9.-]+\\.[A-Z]{2,}$\", re.I)\n",
    "ALLOWED_DEPARTMENTS = {\"AI\", \"AI/ML\", \"ML\"}"
   ]
  },
  {
   "cell_type": "code",
   "execution_count": 165,
   "id": "c70eca7d-a22c-4966-9b90-700655fad3b6",
   "metadata": {},
   "outputs": [
    {
     "name": "stdin",
     "output_type": "stream",
     "text": [
      "Enter name,email,department,join_date(YYYY-MM-DD):  K,Kul11@gmail.com,AI,2025-05-02\n",
      "Enter salary:  250000\n"
     ]
    },
    {
     "name": "stdout",
     "output_type": "stream",
     "text": [
      "✅ Single Record Inserted\n"
     ]
    },
    {
     "name": "stderr",
     "output_type": "stream",
     "text": [
      "C:\\Users\\Kuldeep Kumar\\AppData\\Local\\Temp\\ipykernel_6368\\2843762648.py:18: DeprecationWarning: datetime.datetime.utcnow() is deprecated and scheduled for removal in a future version. Use timezone-aware objects to represent datetimes in UTC: datetime.datetime.now(datetime.UTC).\n",
      "  \"created_at\": datetime.utcnow()\n"
     ]
    }
   ],
   "source": [
    "try:\n",
    "    name, email, dept, jd = input(\"Enter name,email,department,join_date(YYYY-MM-DD): \").split(\",\")\n",
    "    salary = int(input(\"Enter salary: \"))\n",
    "\n",
    "    # validations\n",
    "    if not EMAIL_RE.match(email.strip()):\n",
    "        raise ValueError(\"❌ Invalid Email format\")\n",
    "\n",
    "    if dept.strip() not in ALLOWED_DEPARTMENTS:\n",
    "        raise ValueError(f\"❌ Department must be one of {ALLOWED_DEPARTMENTS}\")\n",
    "\n",
    "    doc = {\n",
    "        \"name\": name.strip(),\n",
    "        \"email\": email.strip().lower(),   # normalize for duplicate prevention\n",
    "        \"department\": dept.strip(),\n",
    "        \"salary\": salary,\n",
    "        \"join_date\": datetime.strptime(jd.strip(), \"%Y-%m-%d\"),\n",
    "        \"created_at\": datetime.utcnow()\n",
    "    }\n",
    "\n",
    "    collection.insert_one(doc)\n",
    "    print(\"✅ Single Record Inserted\")\n",
    "\n",
    "except errors.DuplicateKeyError:\n",
    "    print(\"❌ Duplicate email already exists\")\n",
    "except Exception as e:\n",
    "    print(\"❌ Error:\", e)"
   ]
  },
  {
   "cell_type": "code",
   "execution_count": 174,
   "id": "706cbb4c-ae9c-4a89-964a-3df8cf9de5a7",
   "metadata": {},
   "outputs": [
    {
     "name": "stdout",
     "output_type": "stream",
     "text": [
      "{'_id': ObjectId('68c3e6744c4841c1507d9075'), 'Name': 'Kuldeep_Kumar', 'Email': 'Kul1v1@gmail.com', 'Department': 'AI/ML', 'Salary': 800000, 'join_Date': '09/09/2025'}\n",
      "{'_id': ObjectId('68c3e6744c4841c1507d9076'), 'Name': 'Advait', 'Email': 'Kul22@gmail.com', 'Department': 'AI', 'Salary': 900000, 'join_Date': '09/09/2025', 'last_modified': datetime.datetime(2025, 9, 12, 9, 23, 7, 86000)}\n",
      "{'_id': ObjectId('68c3e6744c4841c1507d9077'), 'Name': 'Gautami', 'Email': 'Kul33@gmail.com', 'Department': 'ML', 'Salary': 800000, 'join_Date': '09/09/2025', 'last_modified': datetime.datetime(2025, 9, 12, 9, 23, 7, 86000)}\n",
      "{'_id': ObjectId('68c3e6744c4841c1507d9078'), 'Name': 'Deepti', 'Email': 'Kul44@gmail.com', 'Department': 'AI/ML', 'Salary': 0, 'join_Date': '09/09/2025', 'last_modified': datetime.datetime(2025, 9, 12, 9, 23, 7, 86000)}\n",
      "{'_id': ObjectId('68c3e6744c4841c1507d9079'), 'Name': 'Abhijeet', 'Email': 'Kul55@gmail.com', 'Department': 'AI', 'Salary': 600000, 'join_Date': '09/09/2025', 'last_modified': datetime.datetime(2025, 9, 12, 9, 23, 7, 86000)}\n",
      "{'_id': ObjectId('68c3e67a4c4841c1507d907a'), 'name': 'K', 'email': 'kul11@gmail.com', 'department': 'AI', 'salary': 250000, 'join_date': datetime.datetime(2025, 5, 2, 0, 0), 'created_at': datetime.datetime(2025, 9, 12, 9, 23, 6, 874000)}\n"
     ]
    }
   ],
   "source": [
    "for i in collection.find({}):\n",
    "    print(i)"
   ]
  },
  {
   "cell_type": "code",
   "execution_count": 175,
   "id": "4c068934-f530-4d00-b8ba-a411b7e471ae",
   "metadata": {},
   "outputs": [
    {
     "name": "stdout",
     "output_type": "stream",
     "text": [
      "❌ Skipping record: {'name': 'InvalidDept', 'email': 'bad@example.com', 'department': 'Finance', 'salary': 45000, 'join_date': '2025-07-10'} | Reason: Invalid department: Finance\n",
      "❌ Bulk Insert Error: {'writeErrors': [{'index': 0, 'code': 11000, 'errmsg': 'E11000 duplicate key error collection: training_db.employees index: Email_1 dup key: { Email: null }', 'keyPattern': {'Email': 1}, 'keyValue': {'Email': None}, 'op': {'name': 'Kuldeep', 'email': 'kuldeep@example.com', 'department': 'AI', 'salary': 50000, 'join_date': datetime.datetime(2025, 9, 1, 0, 0), 'created_at': datetime.datetime(2025, 9, 12, 9, 23, 19, 772393), '_id': ObjectId('68c3e6874c4841c1507d907e')}}, {'index': 1, 'code': 11000, 'errmsg': 'E11000 duplicate key error collection: training_db.employees index: Email_1 dup key: { Email: null }', 'keyPattern': {'Email': 1}, 'keyValue': {'Email': None}, 'op': {'name': 'Asha', 'email': 'asha@example.com', 'department': 'ML', 'salary': 60000, 'join_date': datetime.datetime(2025, 8, 15, 0, 0), 'created_at': datetime.datetime(2025, 9, 12, 9, 23, 19, 772794), '_id': ObjectId('68c3e6874c4841c1507d907f')}}, {'index': 2, 'code': 11000, 'errmsg': 'E11000 duplicate key error collection: training_db.employees index: Email_1 dup key: { Email: null }', 'keyPattern': {'Email': 1}, 'keyValue': {'Email': None}, 'op': {'name': 'Dup', 'email': 'asha@example.com', 'department': 'AI/ML', 'salary': 70000, 'join_date': datetime.datetime(2025, 9, 1, 0, 0), 'created_at': datetime.datetime(2025, 9, 12, 9, 23, 19, 772982), '_id': ObjectId('68c3e6874c4841c1507d9080')}}], 'writeConcernErrors': [], 'nInserted': 0, 'nUpserted': 0, 'nMatched': 0, 'nModified': 0, 'nRemoved': 0, 'upserted': []}\n"
     ]
    },
    {
     "name": "stderr",
     "output_type": "stream",
     "text": [
      "C:\\Users\\Kuldeep Kumar\\AppData\\Local\\Temp\\ipykernel_6368\\1364191366.py:17: DeprecationWarning: datetime.datetime.utcnow() is deprecated and scheduled for removal in a future version. Use timezone-aware objects to represent datetimes in UTC: datetime.datetime.now(datetime.UTC).\n",
      "  rec[\"created_at\"] = datetime.utcnow()\n"
     ]
    }
   ],
   "source": [
    "bulk_docs = [\n",
    "    {\"name\": \"Kuldeep\", \"email\": \"kuldeep@example.com\", \"department\": \"AI\", \"salary\": 50000, \"join_date\": \"2025-09-01\"},\n",
    "    {\"name\": \"Asha\", \"email\": \"asha@example.com\", \"department\": \"ML\", \"salary\": 60000, \"join_date\": \"2025-08-15\"},\n",
    "    {\"name\": \"InvalidDept\", \"email\": \"bad@example.com\", \"department\": \"Finance\", \"salary\": 45000, \"join_date\": \"2025-07-10\"},\n",
    "    {\"name\": \"Dup\", \"email\": \"asha@example.com\", \"department\": \"AI/ML\", \"salary\": 70000, \"join_date\": \"2025-09-01\"}\n",
    "]\n",
    "\n",
    "valid_docs = []\n",
    "for rec in bulk_docs:\n",
    "    try:\n",
    "        if not EMAIL_RE.match(rec[\"email\"]):\n",
    "            raise ValueError(f\"Invalid email: {rec['email']}\")\n",
    "        if rec[\"department\"] not in ALLOWED_DEPARTMENTS:\n",
    "            raise ValueError(f\"Invalid department: {rec['department']}\")\n",
    "        rec[\"email\"] = rec[\"email\"].lower()\n",
    "        rec[\"join_date\"] = datetime.strptime(rec[\"join_date\"], \"%Y-%m-%d\")\n",
    "        rec[\"created_at\"] = datetime.utcnow()\n",
    "        valid_docs.append(rec)\n",
    "    except Exception as e:\n",
    "        print(\"❌ Skipping record:\", rec, \"| Reason:\", e)\n",
    "\n",
    "if valid_docs:\n",
    "    try:\n",
    "        result = collection.insert_many(valid_docs, ordered=False)\n",
    "        print(\"✅ Bulk insert done. Inserted IDs:\", result.inserted_ids)\n",
    "    except errors.BulkWriteError as bwe:\n",
    "        print(\"❌ Bulk Insert Error:\", bwe.details)"
   ]
  },
  {
   "cell_type": "markdown",
   "id": "eaf6dacc-3ed1-4d43-acd3-07a645f42cd7",
   "metadata": {},
   "source": [
    "# Task -4: Implement various update operations with different scenarios.\n",
    "## Requirements\n",
    "- Update Single Field: Update one field of an employee\n",
    "- Update Multiple Fields: Update several fields at once\n",
    "- Update by ID: Update employee using ObjectId\n",
    "- Update by Criteria: Update multiple employees matching criteria\n",
    "- Conditional Updates: Update only if certain conditions are met\n",
    "- Add Modification Timestamp: Track when record was last modified"
   ]
  },
  {
   "cell_type": "code",
   "execution_count": 176,
   "id": "5df9540b-b16b-4559-a7bd-d8f94b0777a1",
   "metadata": {},
   "outputs": [
    {
     "name": "stdout",
     "output_type": "stream",
     "text": [
      "{'_id': ObjectId('68c3e6744c4841c1507d9075'), 'Name': 'Kuldeep_Kumar', 'Email': 'Kul1v1@gmail.com', 'Department': 'AI/ML', 'Salary': 800000, 'join_Date': '09/09/2025'}\n",
      "{'_id': ObjectId('68c3e6744c4841c1507d9076'), 'Name': 'Advait', 'Email': 'Kul22@gmail.com', 'Department': 'AI', 'Salary': 900000, 'join_Date': '09/09/2025', 'last_modified': datetime.datetime(2025, 9, 12, 9, 23, 7, 86000)}\n",
      "{'_id': ObjectId('68c3e6744c4841c1507d9077'), 'Name': 'Gautami', 'Email': 'Kul33@gmail.com', 'Department': 'ML', 'Salary': 800000, 'join_Date': '09/09/2025', 'last_modified': datetime.datetime(2025, 9, 12, 9, 23, 7, 86000)}\n",
      "{'_id': ObjectId('68c3e6744c4841c1507d9078'), 'Name': 'Deepti', 'Email': 'Kul44@gmail.com', 'Department': 'AI/ML', 'Salary': 0, 'join_Date': '09/09/2025', 'last_modified': datetime.datetime(2025, 9, 12, 9, 23, 7, 86000)}\n",
      "{'_id': ObjectId('68c3e6744c4841c1507d9079'), 'Name': 'Abhijeet', 'Email': 'Kul55@gmail.com', 'Department': 'AI', 'Salary': 600000, 'join_Date': '09/09/2025', 'last_modified': datetime.datetime(2025, 9, 12, 9, 23, 7, 86000)}\n",
      "{'_id': ObjectId('68c3e67a4c4841c1507d907a'), 'name': 'K', 'email': 'kul11@gmail.com', 'department': 'AI', 'salary': 250000, 'join_date': datetime.datetime(2025, 5, 2, 0, 0), 'created_at': datetime.datetime(2025, 9, 12, 9, 23, 6, 874000)}\n"
     ]
    }
   ],
   "source": [
    "# Update Single Field: Update one field of an employee\n",
    "collection.update_one({\"Name\":\"Kuldeep11\"},{\"$set\":{\"Salary\":9800000}})\n",
    "for i in collection.find():\n",
    "    print(i)"
   ]
  },
  {
   "cell_type": "code",
   "execution_count": 177,
   "id": "6a7a26dc-ff16-4df1-8d74-b9e2823ef5ff",
   "metadata": {},
   "outputs": [
    {
     "name": "stdout",
     "output_type": "stream",
     "text": [
      "{'_id': ObjectId('68c3e6744c4841c1507d9075'), 'Name': 'Kuldeep_Kumar', 'Email': 'Kul1v1@gmail.com', 'Department': 'AI/ML', 'Salary': 800000, 'join_Date': '09/09/2025'}\n",
      "{'_id': ObjectId('68c3e6744c4841c1507d9076'), 'Name': 'Advait', 'Email': 'Kul22@gmail.com', 'Department': 'AI', 'Salary': 900000, 'join_Date': '09/09/2025', 'last_modified': datetime.datetime(2025, 9, 12, 9, 23, 7, 86000)}\n",
      "{'_id': ObjectId('68c3e6744c4841c1507d9077'), 'Name': 'Gautami', 'Email': 'Kul33@gmail.com', 'Department': 'ML', 'Salary': 800000, 'join_Date': '09/09/2025', 'last_modified': datetime.datetime(2025, 9, 12, 9, 23, 7, 86000)}\n",
      "{'_id': ObjectId('68c3e6744c4841c1507d9078'), 'Name': 'Deepti', 'Email': 'Kul44@gmail.com', 'Department': 'AI/ML', 'Salary': 0, 'join_Date': '09/09/2025', 'last_modified': datetime.datetime(2025, 9, 12, 9, 23, 7, 86000)}\n",
      "{'_id': ObjectId('68c3e6744c4841c1507d9079'), 'Name': 'Abhijeet', 'Email': 'Kul55@gmail.com', 'Department': 'AI', 'Salary': 600000, 'join_Date': '09/09/2025', 'last_modified': datetime.datetime(2025, 9, 12, 9, 23, 7, 86000)}\n",
      "{'_id': ObjectId('68c3e67a4c4841c1507d907a'), 'name': 'K', 'email': 'kul11@gmail.com', 'department': 'AI', 'salary': 250000, 'join_date': datetime.datetime(2025, 5, 2, 0, 0), 'created_at': datetime.datetime(2025, 9, 12, 9, 23, 6, 874000)}\n"
     ]
    }
   ],
   "source": [
    "# Update Multiple Fields: Update several fields at once\n",
    "collection.update_one({\"Name\":\"Kuldeep11\"},{\"$set\":{\"Salary\":800000,\"Email\":\"Kul1v1@gmail.com\",'Name':\"Kuldeep_Kumar\"}})\n",
    "for i in collection.find():\n",
    "    print(i)"
   ]
  },
  {
   "cell_type": "code",
   "execution_count": 178,
   "id": "138c0fb8-985f-4102-a05f-f74d89a1454f",
   "metadata": {},
   "outputs": [
    {
     "name": "stdout",
     "output_type": "stream",
     "text": [
      "{'_id': ObjectId('68c3e6744c4841c1507d9075'), 'Name': 'Kuldeep_Kumar', 'Email': 'Kul1v1@gmail.com', 'Department': 'AI/ML', 'Salary': 800000, 'join_Date': '09/09/2025'}\n",
      "{'_id': ObjectId('68c3e6744c4841c1507d9076'), 'Name': 'Advait', 'Email': 'Kul22@gmail.com', 'Department': 'AI', 'Salary': 900000, 'join_Date': '09/09/2025', 'last_modified': datetime.datetime(2025, 9, 12, 9, 23, 7, 86000)}\n",
      "{'_id': ObjectId('68c3e6744c4841c1507d9077'), 'Name': 'Gautami', 'Email': 'Kul33@gmail.com', 'Department': 'ML', 'Salary': 800000, 'join_Date': '09/09/2025', 'last_modified': datetime.datetime(2025, 9, 12, 9, 23, 7, 86000)}\n",
      "{'_id': ObjectId('68c3e6744c4841c1507d9078'), 'Name': 'Deepti', 'Email': 'Kul44@gmail.com', 'Department': 'AI/ML', 'Salary': 0, 'join_Date': '09/09/2025', 'last_modified': datetime.datetime(2025, 9, 12, 9, 23, 7, 86000)}\n",
      "{'_id': ObjectId('68c3e6744c4841c1507d9079'), 'Name': 'Abhijeet', 'Email': 'Kul55@gmail.com', 'Department': 'AI', 'Salary': 600000, 'join_Date': '09/09/2025', 'last_modified': datetime.datetime(2025, 9, 12, 9, 23, 7, 86000)}\n",
      "{'_id': ObjectId('68c3e67a4c4841c1507d907a'), 'name': 'K', 'email': 'kul11@gmail.com', 'department': 'AI', 'salary': 250000, 'join_date': datetime.datetime(2025, 5, 2, 0, 0), 'created_at': datetime.datetime(2025, 9, 12, 9, 23, 6, 874000)}\n"
     ]
    }
   ],
   "source": [
    "# Update by ID: Update employee using ObjectId\n",
    "collection.update_one({\"_id\":ObjectId('68c3b5a74c4841c1507d905e')},{\"$set\":{\"Salary\":800000,}})\n",
    "for i in collection.find():\n",
    "    print(i)"
   ]
  },
  {
   "cell_type": "code",
   "execution_count": 179,
   "id": "5c544110-c7ac-4854-a80e-bba7072a8970",
   "metadata": {},
   "outputs": [
    {
     "name": "stdout",
     "output_type": "stream",
     "text": [
      "{'_id': ObjectId('68c3e6744c4841c1507d9075'), 'Name': 'Kuldeep_Kumar', 'Email': 'Kul1v1@gmail.com', 'Department': 'AI/ML', 'Salary': 800000, 'join_Date': '09/09/2025'}\n",
      "{'_id': ObjectId('68c3e6744c4841c1507d9076'), 'Name': 'Advait', 'Email': 'Kul22@gmail.com', 'Department': 'AI', 'Salary': 1100000, 'join_Date': '09/09/2025', 'last_modified': datetime.datetime(2025, 9, 12, 9, 23, 7, 86000)}\n",
      "{'_id': ObjectId('68c3e6744c4841c1507d9077'), 'Name': 'Gautami', 'Email': 'Kul33@gmail.com', 'Department': 'ML', 'Salary': 800000, 'join_Date': '09/09/2025', 'last_modified': datetime.datetime(2025, 9, 12, 9, 23, 7, 86000)}\n",
      "{'_id': ObjectId('68c3e6744c4841c1507d9078'), 'Name': 'Deepti', 'Email': 'Kul44@gmail.com', 'Department': 'AI/ML', 'Salary': 0, 'join_Date': '09/09/2025', 'last_modified': datetime.datetime(2025, 9, 12, 9, 23, 7, 86000)}\n",
      "{'_id': ObjectId('68c3e6744c4841c1507d9079'), 'Name': 'Abhijeet', 'Email': 'Kul55@gmail.com', 'Department': 'AI', 'Salary': 800000, 'join_Date': '09/09/2025', 'last_modified': datetime.datetime(2025, 9, 12, 9, 23, 7, 86000)}\n",
      "{'_id': ObjectId('68c3e67a4c4841c1507d907a'), 'name': 'K', 'email': 'kul11@gmail.com', 'department': 'AI', 'salary': 250000, 'join_date': datetime.datetime(2025, 5, 2, 0, 0), 'created_at': datetime.datetime(2025, 9, 12, 9, 23, 6, 874000)}\n"
     ]
    }
   ],
   "source": [
    "# Update by Criteria: Update multiple employees matching criteria\n",
    "collection.update_many({\"Department\":\"AI\"},{\"$inc\":{\"Salary\":200000}})\n",
    "for i in collection.find():\n",
    "    print(i)"
   ]
  },
  {
   "cell_type": "code",
   "execution_count": 180,
   "id": "7e559d6a-ade8-4d4d-9a00-2f7054222266",
   "metadata": {},
   "outputs": [
    {
     "name": "stdout",
     "output_type": "stream",
     "text": [
      "{'_id': ObjectId('68c3e6744c4841c1507d9075'), 'Name': 'Kuldeep_Kumar', 'Email': 'Kul1v1@gmail.com', 'Department': 'AI/ML', 'Salary': 800000, 'join_Date': '09/09/2025'}\n",
      "{'_id': ObjectId('68c3e6744c4841c1507d9076'), 'Name': 'Advait', 'Email': 'Kul22@gmail.com', 'Department': 'AI', 'Salary': 1100000, 'join_Date': '09/09/2025', 'last_modified': datetime.datetime(2025, 9, 12, 9, 23, 7, 86000)}\n",
      "{'_id': ObjectId('68c3e6744c4841c1507d9077'), 'Name': 'Gautami', 'Email': 'Kul33@gmail.com', 'Department': 'ML', 'Salary': 800000, 'join_Date': '09/09/2025', 'last_modified': datetime.datetime(2025, 9, 12, 9, 23, 7, 86000)}\n",
      "{'_id': ObjectId('68c3e6744c4841c1507d9078'), 'Name': 'Deepti', 'Email': 'Kul44@gmail.com', 'Department': 'AI/ML', 'Salary': 0, 'join_Date': '09/09/2025', 'last_modified': datetime.datetime(2025, 9, 12, 9, 23, 7, 86000)}\n",
      "{'_id': ObjectId('68c3e6744c4841c1507d9079'), 'Name': 'Abhijeet', 'Email': 'Kul55@gmail.com', 'Department': 'AI', 'Salary': 800000, 'join_Date': '09/09/2025', 'last_modified': datetime.datetime(2025, 9, 12, 9, 23, 7, 86000)}\n",
      "{'_id': ObjectId('68c3e67a4c4841c1507d907a'), 'name': 'K', 'email': 'kul11@gmail.com', 'department': 'AI', 'salary': 250000, 'join_date': datetime.datetime(2025, 5, 2, 0, 0), 'created_at': datetime.datetime(2025, 9, 12, 9, 23, 6, 874000)}\n"
     ]
    }
   ],
   "source": [
    "# Conditional Updates: Update only if certain conditions are met\n",
    "collection.update_many({\"Name\":{\"$regex\":\"i\"}},[{\"$set\":{\"Salary\":{\"$cond\":{\"if\":{\"$eq\":[\"$Department\",\"AI/ML\"]},\"then\":0,\"else\":\"$Salary\"}}}}])\n",
    "for i in collection.find():\n",
    "    print(i)"
   ]
  },
  {
   "cell_type": "code",
   "execution_count": 181,
   "id": "b2b8e32a-d194-4786-b394-642cbea9ee49",
   "metadata": {},
   "outputs": [
    {
     "name": "stdout",
     "output_type": "stream",
     "text": [
      "{'_id': ObjectId('68c3e6744c4841c1507d9075'), 'Name': 'Kuldeep_Kumar', 'Email': 'Kul1v1@gmail.com', 'Department': 'AI/ML', 'Salary': 800000, 'join_Date': '09/09/2025'}\n",
      "{'_id': ObjectId('68c3e6744c4841c1507d9076'), 'Name': 'Advait', 'Email': 'Kul22@gmail.com', 'Department': 'AI', 'Salary': 1100000, 'join_Date': '09/09/2025', 'last_modified': datetime.datetime(2025, 9, 12, 9, 23, 24, 936000)}\n",
      "{'_id': ObjectId('68c3e6744c4841c1507d9077'), 'Name': 'Gautami', 'Email': 'Kul33@gmail.com', 'Department': 'ML', 'Salary': 800000, 'join_Date': '09/09/2025', 'last_modified': datetime.datetime(2025, 9, 12, 9, 23, 24, 936000)}\n",
      "{'_id': ObjectId('68c3e6744c4841c1507d9078'), 'Name': 'Deepti', 'Email': 'Kul44@gmail.com', 'Department': 'AI/ML', 'Salary': 0, 'join_Date': '09/09/2025', 'last_modified': datetime.datetime(2025, 9, 12, 9, 23, 24, 936000)}\n",
      "{'_id': ObjectId('68c3e6744c4841c1507d9079'), 'Name': 'Abhijeet', 'Email': 'Kul55@gmail.com', 'Department': 'AI', 'Salary': 800000, 'join_Date': '09/09/2025', 'last_modified': datetime.datetime(2025, 9, 12, 9, 23, 24, 936000)}\n",
      "{'_id': ObjectId('68c3e67a4c4841c1507d907a'), 'name': 'K', 'email': 'kul11@gmail.com', 'department': 'AI', 'salary': 250000, 'join_date': datetime.datetime(2025, 5, 2, 0, 0), 'created_at': datetime.datetime(2025, 9, 12, 9, 23, 6, 874000)}\n"
     ]
    },
    {
     "name": "stderr",
     "output_type": "stream",
     "text": [
      "C:\\Users\\Kuldeep Kumar\\AppData\\Local\\Temp\\ipykernel_6368\\1809801428.py:2: DeprecationWarning: datetime.datetime.utcnow() is deprecated and scheduled for removal in a future version. Use timezone-aware objects to represent datetimes in UTC: datetime.datetime.now(datetime.UTC).\n",
      "  collection.update_many({\"Name\":{\"$regex\":\"i\"}},[{\"$set\":{\"Salary\":{\"$cond\":{\"if\":{\"$eq\":[\"$Department\",\"AI/ML\"]},\"then\":0,\"else\":\"$Salary\"}},\"last_modified\": datetime.utcnow()}}])\n"
     ]
    }
   ],
   "source": [
    "# Add Modification Timestamp: Track when record was last modified\n",
    "collection.update_many({\"Name\":{\"$regex\":\"i\"}},[{\"$set\":{\"Salary\":{\"$cond\":{\"if\":{\"$eq\":[\"$Department\",\"AI/ML\"]},\"then\":0,\"else\":\"$Salary\"}},\"last_modified\": datetime.utcnow()}}])\n",
    "for i in collection.find():\n",
    "    print(i)"
   ]
  },
  {
   "cell_type": "code",
   "execution_count": null,
   "id": "92b5dd36-6801-4297-9f52-61c2e86a825a",
   "metadata": {},
   "outputs": [],
   "source": []
  },
  {
   "cell_type": "code",
   "execution_count": null,
   "id": "c4758410-bb21-4855-a542-7b31c6c249c0",
   "metadata": {},
   "outputs": [],
   "source": []
  },
  {
   "cell_type": "code",
   "execution_count": null,
   "id": "32e561b2-90cf-4092-bf17-da9dfbedd1dc",
   "metadata": {},
   "outputs": [],
   "source": []
  }
 ],
 "metadata": {
  "kernelspec": {
   "display_name": "Python 3 (ipykernel)",
   "language": "python",
   "name": "python3"
  },
  "language_info": {
   "codemirror_mode": {
    "name": "ipython",
    "version": 3
   },
   "file_extension": ".py",
   "mimetype": "text/x-python",
   "name": "python",
   "nbconvert_exporter": "python",
   "pygments_lexer": "ipython3",
   "version": "3.13.5"
  },
  "widgets": {
   "application/vnd.jupyter.widget-state+json": {
    "state": {},
    "version_major": 2,
    "version_minor": 0
   }
  }
 },
 "nbformat": 4,
 "nbformat_minor": 5
}
